{
 "cells": [
  {
   "cell_type": "code",
   "execution_count": 251,
   "id": "1abf7bab",
   "metadata": {},
   "outputs": [],
   "source": [
    "import math"
   ]
  },
  {
   "cell_type": "code",
   "execution_count": 252,
   "id": "61815f55",
   "metadata": {},
   "outputs": [],
   "source": [
    "def sigmoid(x):\n",
    "    return (1/(1+math.exp(-x)))"
   ]
  },
  {
   "cell_type": "code",
   "execution_count": 253,
   "id": "db433c62",
   "metadata": {},
   "outputs": [],
   "source": [
    "# Assuming that x is already paased through sigmoid(x)\n",
    "def dsigmoid(x):\n",
    "    return (x * (1 - x))"
   ]
  },
  {
   "cell_type": "code",
   "execution_count": 254,
   "id": "ce357c79",
   "metadata": {},
   "outputs": [],
   "source": [
    "# Number of input, hidden and output nodes\n",
    "ni = 2\n",
    "nh = 2\n",
    "no = 2"
   ]
  },
  {
   "cell_type": "code",
   "execution_count": 255,
   "id": "e4202f9c",
   "metadata": {},
   "outputs": [],
   "source": [
    "# Activations\n",
    "ai = [1.0] * (ni+1) # 1 for bias node\n",
    "ah = [1.0] * (nh+1)\n",
    "ao = [1.0] * no"
   ]
  },
  {
   "cell_type": "code",
   "execution_count": 256,
   "id": "304d14ee",
   "metadata": {},
   "outputs": [],
   "source": [
    "# Putting up values\n",
    "pat = [[0.05, 0.10], [0.01, 0.99]]\n",
    "wi = [[0.15, 0.25], [0.20, 0.30], [0.35, 0.35]]\n",
    "wo = [[0.40, 0.50], [0.45, 0.55], [0.60, 0.60]]"
   ]
  },
  {
   "cell_type": "code",
   "execution_count": 257,
   "id": "68742755",
   "metadata": {},
   "outputs": [],
   "source": [
    "def update(inputs):\n",
    "    for i in range(ni):\n",
    "        ai[i] = inputs[i]\n",
    "    for j in range(nh):\n",
    "        sum = 0.0\n",
    "        for i in range(ni+1):\n",
    "            sum += (ai[i] * wi[i][j])\n",
    "        ah[j] = sigmoid(sum)\n",
    "    for k in range(no):\n",
    "        sum = 0.0\n",
    "        for j in range(nh+1):\n",
    "            sum += (ah[j] * wo[j][k])\n",
    "        ao[k] = sigmoid(sum)\n",
    "    return ao[:]"
   ]
  },
  {
   "cell_type": "code",
   "execution_count": 258,
   "id": "23c7b69d",
   "metadata": {},
   "outputs": [],
   "source": [
    "def backPropagate(targets, N):\n",
    "    # Calculate error terms for output\n",
    "    output_deltas = [0.0] * no\n",
    "    for k in range(no):\n",
    "        error = targets[k] - ao[k]\n",
    "        output_deltas[k] = dsigmoid(ao[k]) * error\n",
    "    \n",
    "    # Calculate error terms for hidden\n",
    "    hidden_deltas = [0.0] * nh\n",
    "    for j in range(nh):\n",
    "        error = 0.0\n",
    "        for k in range(no):\n",
    "            error += output_deltas[k]*wo[j][k]\n",
    "        hidden_deltas[j] = dsigmoid(ah[j]) * error\n",
    "        \n",
    "    # Update output weights\n",
    "    for j in range(nh):\n",
    "        for k in range(no):\n",
    "            change = output_deltas[k]*ah[j]\n",
    "            wo[j][k] += N * change\n",
    "    \n",
    "    # Update input weights\n",
    "    for i in range(ni):\n",
    "        for j in range(nh):\n",
    "            change = hidden_deltas[j]*ai[i]\n",
    "            wi[i][j] += N * change\n",
    "    \n",
    "    # Calculate Error\n",
    "    error = 0.0\n",
    "    for k in range(len(targets)):\n",
    "        error += 0.5*((targets[k]-ao[k])**2)\n",
    "    \n",
    "    return error"
   ]
  },
  {
   "cell_type": "code",
   "execution_count": 259,
   "id": "bd6033c8",
   "metadata": {},
   "outputs": [
    {
     "name": "stdout",
     "output_type": "stream",
     "text": [
      "Error:  0.2983711087600027\n",
      "Error:  0.001114349453733746\n",
      "Error:  0.00044486770391326887\n",
      "Error:  0.00025152360241099405\n",
      "Error:  0.00016427727363225536\n",
      "Error:  0.00011622569943793622\n",
      "Error:  8.653979465934606e-05\n",
      "Error:  6.676957838285888e-05\n",
      "Error:  5.288555201099971e-05\n",
      "Error:  4.2742284255545085e-05\n"
     ]
    }
   ],
   "source": [
    "# Train\n",
    "N = 0.5 # Learning Rate\n",
    "iterations = 10000 # Iterations\n",
    "for i in range(iterations):\n",
    "    inputs = pat[0]\n",
    "    targets = pat[1]\n",
    "    update(inputs)\n",
    "    error = backPropagate(targets, N)\n",
    "    if i%1000 == 0:\n",
    "        print(\"Error: \", error)"
   ]
  },
  {
   "cell_type": "code",
   "execution_count": 250,
   "id": "2844d06c",
   "metadata": {},
   "outputs": [
    {
     "name": "stdout",
     "output_type": "stream",
     "text": [
      "[0.05, 0.1] -> [0.01591362044355068, 0.9840642735146238]\n"
     ]
    }
   ],
   "source": [
    "# Test\n",
    "print(pat[0], '->', update(pat[0]))"
   ]
  }
 ],
 "metadata": {
  "kernelspec": {
   "display_name": "Python 3 (ipykernel)",
   "language": "python",
   "name": "python3"
  },
  "language_info": {
   "codemirror_mode": {
    "name": "ipython",
    "version": 3
   },
   "file_extension": ".py",
   "mimetype": "text/x-python",
   "name": "python",
   "nbconvert_exporter": "python",
   "pygments_lexer": "ipython3",
   "version": "3.8.10"
  }
 },
 "nbformat": 4,
 "nbformat_minor": 5
}
