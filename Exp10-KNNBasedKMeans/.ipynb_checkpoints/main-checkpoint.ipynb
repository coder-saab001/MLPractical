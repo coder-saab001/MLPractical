{
 "cells": [
  {
   "cell_type": "code",
   "execution_count": 1,
   "id": "4d638c4b",
   "metadata": {},
   "outputs": [],
   "source": [
    "import numpy as np\n",
    "import math\n",
    "from matplotlib import pyplot as plt"
   ]
  },
  {
   "cell_type": "code",
   "execution_count": 14,
   "id": "9325ec85",
   "metadata": {},
   "outputs": [],
   "source": [
    "class KnnKMeans:\n",
    "    def __init__(self, n_clusters):\n",
    "        self.n_clusters = n_clusters\n",
    "        self.clusters = []\n",
    "        for i in range(n_clusters):\n",
    "            self.clusters.append(set())\n",
    "            \n",
    "    def fit(self, X_train, threshold):\n",
    "        cluster_index = 0\n",
    "        for point in X_train:\n",
    "            closest_cluster_index = 0\n",
    "            min_distance = math.inf\n",
    "            found = False\n",
    "            i = 0\n",
    "            while i <= cluster_index and i < self.n_clusters:\n",
    "                if(len(self.clusters[i]) == 0):\n",
    "                    i += 1\n",
    "                    continue\n",
    "                tmp = math.inf\n",
    "                for pt in self.clusters[i]:\n",
    "                    dist = self.calculate_distance(point, pt)\n",
    "                    if(dist < tmp):\n",
    "                        temp = dist\n",
    "                if tmp < min_distance:\n",
    "                    if tmp <= threshold:\n",
    "                        found = True\n",
    "                    min_distance = tmp\n",
    "                    closest_cluster_index = i\n",
    "                i += 1\n",
    "            print(point, \"-> \", \"clusters: \", self.clusters)\n",
    "            \n",
    "            if(found == True):\n",
    "                self.clusters[closest_cluster_index].add(tuple(point))\n",
    "            else:\n",
    "                if(cluster_index <= self.n_clusters - 1):\n",
    "                    self.clusters[cluster_index].add(tuple(point))\n",
    "                    if(cluster_index < self.n_clusters - 1):\n",
    "                        cluster_index += 1\n",
    "                else:\n",
    "                    self.clusters[closest_cluster_index].add(tuple(point))\n",
    "            print(point, \"-> \", \"clusters: \", self.clusters)\n",
    "    def calculate_distance(self, point, data):\n",
    "        return np.sqrt(np.sum((np.array(point) - np.array(data))**2))"
   ]
  },
  {
   "cell_type": "code",
   "execution_count": 17,
   "id": "b827f4ec",
   "metadata": {},
   "outputs": [
    {
     "name": "stdout",
     "output_type": "stream",
     "text": [
      "[0, 0] ->  clusters:  [set(), set(), set()]\n",
      "[0, 0] ->  clusters:  [{(0, 0)}, set(), set()]\n",
      "[1, 7] ->  clusters:  [{(0, 0)}, set(), set()]\n",
      "[1, 7] ->  clusters:  [{(0, 0)}, {(1, 7)}, set()]\n",
      "[1, 6] ->  clusters:  [{(0, 0)}, {(1, 7)}, set()]\n",
      "[1, 6] ->  clusters:  [{(0, 0)}, {(1, 7)}, {(1, 6)}]\n",
      "[1, 1] ->  clusters:  [{(0, 0)}, {(1, 7)}, {(1, 6)}]\n",
      "[1, 1] ->  clusters:  [{(0, 0)}, {(1, 7)}, {(1, 6), (1, 1)}]\n",
      "[1, 1] ->  clusters:  [{(0, 0)}, {(1, 7)}, {(1, 6), (1, 1)}]\n",
      "[1, 1] ->  clusters:  [{(0, 0)}, {(1, 7)}, {(1, 6), (1, 1)}]\n",
      "[1, 2] ->  clusters:  [{(0, 0)}, {(1, 7)}, {(1, 6), (1, 1)}]\n",
      "[1, 2] ->  clusters:  [{(0, 0)}, {(1, 7)}, {(1, 6), (1, 1), (1, 2)}]\n",
      "[1, 3] ->  clusters:  [{(0, 0)}, {(1, 7)}, {(1, 6), (1, 1), (1, 2)}]\n",
      "[1, 3] ->  clusters:  [{(0, 0)}, {(1, 7)}, {(1, 6), (1, 1), (1, 2), (1, 3)}]\n",
      "[1, 4] ->  clusters:  [{(0, 0)}, {(1, 7)}, {(1, 6), (1, 1), (1, 2), (1, 3)}]\n",
      "[1, 4] ->  clusters:  [{(0, 0)}, {(1, 7)}, {(1, 2), (1, 1), (1, 4), (1, 6), (1, 3)}]\n",
      "[1, 5] ->  clusters:  [{(0, 0)}, {(1, 7)}, {(1, 2), (1, 1), (1, 4), (1, 6), (1, 3)}]\n",
      "[1, 5] ->  clusters:  [{(0, 0)}, {(1, 7)}, {(1, 2), (1, 5), (1, 1), (1, 4), (1, 6), (1, 3)}]\n",
      "\n",
      "--------Final clusters--------\n",
      "{(0, 0)}\n",
      "{(1, 7)}\n",
      "{(1, 2), (1, 5), (1, 1), (1, 4), (1, 6), (1, 3)}\n"
     ]
    },
    {
     "data": {
      "image/png": "[encoded data removed]",
      "text/plain": [
       "<Figure size 432x288 with 1 Axes>"
      ]
     },
     "metadata": {
      "needs_background": "light"
     },
     "output_type": "display_data"
    }
   ],
   "source": [
    "kmeans = KnnKMeans(n_clusters = 3)\n",
    "X_train = [[0,0], [1,7], [1,6], [1,1], [1,1], [1,2], [1,3], [1,4], [1,5]]\n",
    "kmeans.fit(X_train, 1)\n",
    "\n",
    "X = []\n",
    "Y = []\n",
    "print(\"\\n--------Final clusters--------\")\n",
    "for cluster in kmeans.clusters:\n",
    "    print(cluster)\n",
    "    temp_x = []\n",
    "    temp_y = []\n",
    "    for elem in cluster:\n",
    "        temp_x.append(elem[0])\n",
    "        temp_y.append(elem[1])\n",
    "    X.append(temp_x)\n",
    "    Y.append(temp_y)\n",
    "\n",
    "plt.scatter(X[0], Y[0], color='red')\n",
    "plt.scatter(X[1], Y[1], color='blue')\n",
    "plt.scatter(X[2], Y[2], color='green')\n",
    "plt.show()"
   ]
  },
  {
   "cell_type": "code",
   "execution_count": null,
   "id": "cc02948f",
   "metadata": {},
   "outputs": [],
   "source": []
  }
 ],
 "metadata": {
  "kernelspec": {
   "display_name": "Python 3 (ipykernel)",
   "language": "python",
   "name": "python3"
  },
  "language_info": {
   "codemirror_mode": {
    "name": "ipython",
    "version": 3
   },
   "file_extension": ".py",
   "mimetype": "text/x-python",
   "name": "python",
   "nbconvert_exporter": "python",
   "pygments_lexer": "ipython3",
   "version": "3.8.10"
  }
 },
 "nbformat": 4,
 "nbformat_minor": 5
}
