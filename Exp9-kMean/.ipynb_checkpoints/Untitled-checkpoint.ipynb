{
 "cells": [
  {
   "cell_type": "code",
   "execution_count": 3,
   "id": "7d2a496d",
   "metadata": {},
   "outputs": [],
   "source": [
    "import matplotlib.pyplot as plt\n",
    "import numpy as np\n",
    "import math"
   ]
  },
  {
   "cell_type": "code",
   "execution_count": 4,
   "id": "62fc1bca",
   "metadata": {},
   "outputs": [
    {
     "data": {
      "image/png": "[encoded data removed]",
      "text/plain": [
       "<Figure size 432x288 with 1 Axes>"
      ]
     },
     "metadata": {
      "needs_background": "light"
     },
     "output_type": "display_data"
    }
   ],
   "source": [
    "X = 1 + np.random.rand(20, 2)\n",
    "X1 = -1 + np.random.rand(20, 2)\n",
    "X2 = 5 + np.random.rand(20,2)\n",
    "data = np.concatenate((X,X1,X2))\n",
    "np.random.shuffle(data)\n",
    "\n",
    "plt.scatter(data[:,0], data[:,1])\n",
    "plt.show()\n",
    "\n",
    "colors = 10*[\"g\", \"r\", \"c\", \"b\", \"k\"]"
   ]
  },
  {
   "cell_type": "code",
   "execution_count": 5,
   "id": "dc252bb5",
   "metadata": {},
   "outputs": [],
   "source": [
    "def euc_dist(p1, p2):\n",
    "    return np.sqrt(np.sum((p1-p2)**2))"
   ]
  },
  {
   "cell_type": "code",
   "execution_count": 6,
   "id": "6590f5c6",
   "metadata": {},
   "outputs": [],
   "source": [
    "def assign_label_cluster(distance, data_point, centroids):\n",
    "    min_idx = 0\n",
    "    min_dist = math.inf\n",
    "    for i in range(len(distance)):\n",
    "        if distance[i] < min_dist:\n",
    "            min_dist = distance[i]\n",
    "            min_idx = i\n",
    "    return min_idx"
   ]
  },
  {
   "cell_type": "code",
   "execution_count": 7,
   "id": "68cff070",
   "metadata": {},
   "outputs": [],
   "source": [
    "def compute_new_centroids(data, labels, prev_centroids):\n",
    "    k = len(prev_centroids)\n",
    "    sumX = [0 for i in range(k)]\n",
    "    sumY = [0 for i in range(k)]\n",
    "    count = [0 for i in range(k)]\n",
    "    for idx_point in range(len(data)):\n",
    "        sumX[labels[idx_point]] += data[idx_point][0]\n",
    "        sumY[labels[idx_point]] += data[idx_point][1]\n",
    "        count[labels[idx_point]] += 1\n",
    "    centroids = []\n",
    "    for i in range(k):\n",
    "        centroids.append([sumX[i]/count[i], sumY[i]/count[i]])\n",
    "    return centroids"
   ]
  },
  {
   "cell_type": "code",
   "execution_count": 9,
   "id": "795f638f",
   "metadata": {},
   "outputs": [],
   "source": [
    "def getColor(label):\n",
    "    colors = ['r', 'g', 'b']\n",
    "    colors = colors * 10\n",
    "    return colors[label]"
   ]
  },
  {
   "cell_type": "code",
   "execution_count": 17,
   "id": "53cea261",
   "metadata": {},
   "outputs": [
    {
     "name": "stdout",
     "output_type": "stream",
     "text": [
      "[array([1.44313286, 1.54122131]), array([5.3151145 , 5.15996363]), array([1.04395987, 1.08357652])]\n"
     ]
    },
    {
     "data": {
      "image/png": "[encoded data removed]",
      "text/plain": [
       "<Figure size 432x288 with 1 Axes>"
      ]
     },
     "metadata": {
      "needs_background": "light"
     },
     "output_type": "display_data"
    }
   ],
   "source": [
    "k = 3\n",
    "max_itr = 3000\n",
    "centroids = []\n",
    "for i in range(k):\n",
    "    centroids.append(data[i])\n",
    "cluster_label = []\n",
    "\n",
    "for itr in range(max_itr):\n",
    "    labels = []\n",
    "    for idx_point in range(len(data)):\n",
    "        distance = {}\n",
    "        for idx_centroid in range(k):\n",
    "            distance[idx_centroid] = euc_dist(data[idx_point], centroids[idx_centroid])\n",
    "        label = assign_label_cluster(distance, data[idx_point], centroids)\n",
    "        labels.append(label)\n",
    "    cluster_labels = labels\n",
    "    centroids = compute_new_centroids(data, labels, centroids)\n",
    "\n",
    "# Ploting\n",
    "for i in range(len(data)):\n",
    "    plt.scatter(data[i][0], data[i][1], color = getColor(cluster_labels[i]))\n",
    "for i in range(k):\n",
    "    plt.scatter(centroids[i][0], centroids[i][1], marker = 'x', color = 'black')"
   ]
  },
  {
   "cell_type": "code",
   "execution_count": null,
   "id": "cb3c1e0b",
   "metadata": {},
   "outputs": [],
   "source": []
  },
  {
   "cell_type": "code",
   "execution_count": null,
   "id": "03cb278d",
   "metadata": {},
   "outputs": [],
   "source": []
  }
 ],
 "metadata": {
  "kernelspec": {
   "display_name": "Python 3 (ipykernel)",
   "language": "python",
   "name": "python3"
  },
  "language_info": {
   "codemirror_mode": {
    "name": "ipython",
    "version": 3
   },
   "file_extension": ".py",
   "mimetype": "text/x-python",
   "name": "python",
   "nbconvert_exporter": "python",
   "pygments_lexer": "ipython3",
   "version": "3.8.10"
  },
  "vscode": {
   "interpreter": {
    "hash": "916dbcbb3f70747c44a77c7bcd40155683ae19c65e1c03b4aa3499c5328201f1"
   }
  }
 },
 "nbformat": 4,
 "nbformat_minor": 5
}
